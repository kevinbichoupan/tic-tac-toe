{
 "cells": [
  {
   "cell_type": "code",
   "execution_count": 159,
   "id": "9358d1da",
   "metadata": {},
   "outputs": [],
   "source": [
    "# Create Class for Board\n",
    "\n",
    "class Board:\n",
    "    def __init__(self):\n",
    "        self.board = [['-', '1', '2', '3'], ['a', ' ', ' ' , ' '], ['b', ' ', ' ' , ' '], ['c', ' ', ' ' , ' ']]\n",
    "        self.board_winner = False\n",
    "        self.board_full = False\n",
    "        self.end_game = False\n",
    "    \n",
    "    def __str__(self):\n",
    "        return '\\n'.join(str(row) for row in self.board)\n",
    "    \n",
    "    def update(self, player, coordinate):        \n",
    "        y_coordinate = int(coordinate[1])\n",
    "        x_coordinate = ord(coordinate[0]) - 96\n",
    "        if self.board[x_coordinate][y_coordinate] != ' ':\n",
    "            raise ValueError('Non empty board position')\n",
    "        self.board[x_coordinate][y_coordinate] = player\n",
    "    \n",
    "    def check_if_winner(self):\n",
    "        # check if someone won\n",
    "        if ((self.board[1][1] == self.board[1][2] == self.board[1][3] != ' ') or\n",
    "            (self.board[2][1] == self.board[2][2] == self.board[2][3] != ' ') or\n",
    "            (self.board[3][1] == self.board[3][2] == self.board[3][3] != ' ') or\n",
    "            (self.board[1][1] == self.board[2][1] == self.board[3][1] != ' ') or\n",
    "            (self.board[1][2] == self.board[2][2] == self.board[3][2] != ' ') or\n",
    "            (self.board[1][3] == self.board[2][3] == self.board[3][3] != ' ') or\n",
    "            (self.board[1][1] == self.board[2][2] == self.board[3][3] != ' ') or\n",
    "            (self.board[1][3] == self.board[2][2] == self.board[3][1] != ' ')):\n",
    "            self.board_winner = True\n",
    "        \n",
    "    def check_if_full(self):\n",
    "        counter = 0\n",
    "        for i in self.board:\n",
    "            for j in i: \n",
    "                if j != ' ': \n",
    "                    counter += 1\n",
    "        if counter == 16:\n",
    "            self.board_full = True\n",
    "        \n",
    "    def process_turn(self, player, coordinate):\n",
    "        self.update(player, coordinate)\n",
    "        self.check_if_winner()\n",
    "        self.check_if_full()\n",
    "        return (self.board_winner == True or self.board_full == True)\n",
    "    \n",
    "    "
   ]
  },
  {
   "cell_type": "code",
   "execution_count": 160,
   "id": "f90fe3e9",
   "metadata": {},
   "outputs": [],
   "source": [
    "# Create Class for Game\n",
    "\n",
    "class TicTacToe:\n",
    "    def __init__(self):\n",
    "        self.turn = 0\n",
    "        self.board = Board()\n",
    "        self.marker = None\n",
    "    \n",
    "    def set_player(self):\n",
    "        return 'X' if self.turn % 2 == 0 else 'O'\n",
    "    \n",
    "    def execute_turn(self):\n",
    "        self.marker = self.set_player()\n",
    "        self.turn += 1\n",
    "        player_input = input(\"Where would you like to place a marker? Enter as coordinates (e.g. a1): \")\n",
    "        self.board.process_turn(self.marker, player_input)"
   ]
  },
  {
   "cell_type": "code",
   "execution_count": 177,
   "id": "2f0d702d",
   "metadata": {},
   "outputs": [],
   "source": [
    "# create game orchestration\n",
    "\n",
    "from IPython.display import clear_output\n",
    "\n",
    "def game_orch():\n",
    "\n",
    "    ttt = TicTacToe()\n",
    "    \n",
    "    while ttt.board.board_full == False and ttt.board.board_winner == False:\n",
    "\n",
    "        try:\n",
    "            print(ttt.board)\n",
    "            clear_output(wait = True) \n",
    "            if ttt.execute_turn() == True:\n",
    "                break\n",
    "        except ValueError as e:\n",
    "            ttt.turn -= 1\n",
    "            print(e)\n",
    "            print(\"Try again!!\")\n",
    "        \n",
    "    print(\"Player \" + ttt.marker + \" wins!!!!!\")\n",
    "        "
   ]
  },
  {
   "cell_type": "code",
   "execution_count": 178,
   "id": "767a1fcd",
   "metadata": {},
   "outputs": [
    {
     "name": "stdout",
     "output_type": "stream",
     "text": [
      "Where would you like to place a marker?: c1\n",
      "Player X wins!!!!!\n"
     ]
    }
   ],
   "source": [
    "game_orch()"
   ]
  },
  {
   "cell_type": "code",
   "execution_count": null,
   "id": "1cf673bc",
   "metadata": {},
   "outputs": [],
   "source": []
  },
  {
   "cell_type": "code",
   "execution_count": null,
   "id": "2df7db3a",
   "metadata": {},
   "outputs": [],
   "source": []
  }
 ],
 "metadata": {
  "kernelspec": {
   "display_name": "Python 3 (ipykernel)",
   "language": "python",
   "name": "python3"
  },
  "language_info": {
   "codemirror_mode": {
    "name": "ipython",
    "version": 3
   },
   "file_extension": ".py",
   "mimetype": "text/x-python",
   "name": "python",
   "nbconvert_exporter": "python",
   "pygments_lexer": "ipython3",
   "version": "3.9.7"
  }
 },
 "nbformat": 4,
 "nbformat_minor": 5
}
